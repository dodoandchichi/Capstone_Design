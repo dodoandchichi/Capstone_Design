{
 "cells": [
  {
   "cell_type": "code",
   "execution_count": null,
   "id": "fc258390",
   "metadata": {},
   "outputs": [],
   "source": [
    "import numpy as np\n",
    "from scipy.io.wavfile import write\n",
    "\n",
    "# CSV 파일에서 소음 데이터 로드\n",
    "data = np.loadtxt('sound_data.csv', delimiter=',')\n",
    "\n",
    "# 소음 데이터를 WAV 파일 저장\n",
    "write('sound_data.wav', 44100, data.astype(np.int16))\n"
   ]
  }
 ],
 "metadata": {
  "kernelspec": {
   "display_name": "tf377cuda11.1",
   "language": "python",
   "name": "tf377"
  },
  "language_info": {
   "codemirror_mode": {
    "name": "ipython",
    "version": 3
   },
   "file_extension": ".py",
   "mimetype": "text/x-python",
   "name": "python",
   "nbconvert_exporter": "python",
   "pygments_lexer": "ipython3",
   "version": "3.7.16"
  }
 },
 "nbformat": 4,
 "nbformat_minor": 5
}
